{
  "nbformat": 4,
  "nbformat_minor": 0,
  "metadata": {
    "colab": {
      "name": "author_a0_extraction",
      "provenance": [],
      "collapsed_sections": [
        "xwFu8gN1cf5K",
        "MfU0zgZ7vuht",
        "GPXBKyyxv7wj",
        "5gJNDmCHwcE2",
        "s6X8nOiMv0Jo",
        "XrTzHA2olmhH",
        "hpIA6CsD5-Q_",
        "13NnLghosK6s",
        "h9yT8qABtpyf",
        "_E2-UP_8rWtJ",
        "S5sK-dnEGzmF"
      ]
    },
    "kernelspec": {
      "name": "python3",
      "display_name": "Python 3"
    },
    "accelerator": "GPU"
  },
  "cells": [
    {
      "cell_type": "code",
      "metadata": {
        "id": "4xn-xe3JbIfA"
      },
      "source": [
        "import json\n",
        "import pandas as pd\n",
        "import re\n",
        "import gensim\n",
        "\n",
        "from tqdm import tqdm\n",
        "from gensim.models import word2vec\n",
        "\n",
        "import numpy as np\n",
        "import copy"
      ],
      "execution_count": 1,
      "outputs": []
    },
    {
      "cell_type": "markdown",
      "metadata": {
        "id": "xwFu8gN1cf5K"
      },
      "source": [
        "# 1. Загружаем и обрабатываем словарь RuSentiFrames "
      ]
    },
    {
      "cell_type": "code",
      "metadata": {
        "colab": {
          "base_uri": "https://localhost:8080/"
        },
        "id": "HkyMRXLqcO-3",
        "outputId": "bf17df74-14d1-492a-af85-45b7fccb6cfe"
      },
      "source": [
        "!wget https://raw.githubusercontent.com/nicolay-r/RuSentiFrames/master/collection.json"
      ],
      "execution_count": 2,
      "outputs": [
        {
          "output_type": "stream",
          "text": [
            "--2021-05-24 12:51:48--  https://raw.githubusercontent.com/nicolay-r/RuSentiFrames/master/collection.json\n",
            "Resolving raw.githubusercontent.com (raw.githubusercontent.com)... 185.199.108.133, 185.199.110.133, 185.199.109.133, ...\n",
            "Connecting to raw.githubusercontent.com (raw.githubusercontent.com)|185.199.108.133|:443... connected.\n",
            "HTTP request sent, awaiting response... 200 OK\n",
            "Length: 674938 (659K) [text/plain]\n",
            "Saving to: ‘collection.json’\n",
            "\n",
            "collection.json     100%[===================>] 659.12K  --.-KB/s    in 0.1s    \n",
            "\n",
            "2021-05-24 12:51:48 (5.97 MB/s) - ‘collection.json’ saved [674938/674938]\n",
            "\n"
          ],
          "name": "stdout"
        }
      ]
    },
    {
      "cell_type": "code",
      "metadata": {
        "id": "cjCqjp-3cvQH"
      },
      "source": [
        "f = open('collection.json', 'r')\n",
        "json_string = f.read()\n",
        "f.close()\n",
        "\n",
        "data = json.loads(json_string)"
      ],
      "execution_count": 3,
      "outputs": []
    },
    {
      "cell_type": "code",
      "metadata": {
        "id": "WXZO-Jmdc0Zi"
      },
      "source": [
        "cols = ['predicate', 'role_a0', 'author_a0', 'value_author_a0']\n",
        "\n",
        "row_l_list = []\n",
        "row_b_list = []\n",
        "main_verbs_list = []\n",
        "\n",
        "for predicate in data:\n",
        "    frames = {}\n",
        "    \n",
        "    if 'a0' in data[predicate]['roles']:\n",
        "        frames['role_a0'] = data[predicate]['roles']['a0']  #считываем роль a0 - наиболее агентивный участник\n",
        "    else:\n",
        "        frames['role_a0'] = None\n",
        "\n",
        "    if 'polarity' in data[predicate]['frames']:   #записываем все известные отношения между a0 и a1 участниками в словарь\n",
        "        for attitude in data[predicate]['frames']['polarity']:\n",
        "            if attitude[0] == 'author' and attitude[1] == 'a0':\n",
        "                frames['author_a0'] = attitude[2]\n",
        "                frames['value_author_a0'] = attitude[3]\n",
        "    \n",
        "    for col in cols:\n",
        "        if col not in frames:\n",
        "          if col == 'value_author_a0':\n",
        "            frames[col] = '0'\n",
        "          else:\n",
        "            frames[col] = 'neutr'   #если чего-либо из выше перечисленного нет, то записываем neutr\n",
        "\n",
        "    \n",
        "    exact_frame = copy.deepcopy(frames) #дипкопи, потому что словарь меняется\n",
        "    exact_frame['predicate'] = data[predicate]['title'][0]\n",
        "    row_l_list.append(exact_frame) #добавляем предикат из title в список строк маленького датафрейма\n",
        "    \n",
        "    for el in data[predicate]['title'] + data[predicate]['variants']:  #добавляем предикаты из title и variants в список строк большого датафрейма\n",
        "        if len(el.split()) == 1: #хотим брать только глаголы из одного слова для простоты поиска в дальнейшем\n",
        "          exact_frame = copy.deepcopy(frames)\n",
        "          exact_frame['predicate'] = el\n",
        "          if exact_frame not in row_b_list:\n",
        "            main_verbs_list.append(data[predicate]['title'][0])\n",
        "            row_b_list.append(exact_frame)\n",
        "\n",
        "df_little = pd.DataFrame(row_l_list, columns=cols) #база с основными предикатами\n",
        "df_big = pd.DataFrame(row_b_list, columns=cols) #база с основными предикатами и их вариантами"
      ],
      "execution_count": 4,
      "outputs": []
    },
    {
      "cell_type": "code",
      "metadata": {
        "colab": {
          "base_uri": "https://localhost:8080/"
        },
        "id": "ACUJBVUCeQpK",
        "outputId": "d4c19ae0-2d33-40d9-b456-7bd3af84309f"
      },
      "source": [
        "print(len(df_little), len(df_big))  # длины маленького и большого датафрейма"
      ],
      "execution_count": 5,
      "outputs": [
        {
          "output_type": "stream",
          "text": [
            "311 4430\n"
          ],
          "name": "stdout"
        }
      ]
    },
    {
      "cell_type": "code",
      "metadata": {
        "colab": {
          "base_uri": "https://localhost:8080/",
          "height": 0
        },
        "id": "2YkPsdUGdkEs",
        "outputId": "dccc7cba-de94-488d-e849-f27012cb521e"
      },
      "source": [
        "df_little.head()"
      ],
      "execution_count": 6,
      "outputs": [
        {
          "output_type": "execute_result",
          "data": {
            "text/html": [
              "<div>\n",
              "<style scoped>\n",
              "    .dataframe tbody tr th:only-of-type {\n",
              "        vertical-align: middle;\n",
              "    }\n",
              "\n",
              "    .dataframe tbody tr th {\n",
              "        vertical-align: top;\n",
              "    }\n",
              "\n",
              "    .dataframe thead th {\n",
              "        text-align: right;\n",
              "    }\n",
              "</style>\n",
              "<table border=\"1\" class=\"dataframe\">\n",
              "  <thead>\n",
              "    <tr style=\"text-align: right;\">\n",
              "      <th></th>\n",
              "      <th>predicate</th>\n",
              "      <th>role_a0</th>\n",
              "      <th>author_a0</th>\n",
              "      <th>value_author_a0</th>\n",
              "    </tr>\n",
              "  </thead>\n",
              "  <tbody>\n",
              "    <tr>\n",
              "      <th>0</th>\n",
              "      <td>надеяться</td>\n",
              "      <td>тот, кто надеется</td>\n",
              "      <td>neutr</td>\n",
              "      <td>0</td>\n",
              "    </tr>\n",
              "    <tr>\n",
              "      <th>1</th>\n",
              "      <td>довериться</td>\n",
              "      <td>тот, кто доверяется</td>\n",
              "      <td>neutr</td>\n",
              "      <td>0</td>\n",
              "    </tr>\n",
              "    <tr>\n",
              "      <th>2</th>\n",
              "      <td>умереть</td>\n",
              "      <td>умерший</td>\n",
              "      <td>neutr</td>\n",
              "      <td>0</td>\n",
              "    </tr>\n",
              "    <tr>\n",
              "      <th>3</th>\n",
              "      <td>дохнуть (умирать)</td>\n",
              "      <td>умерший</td>\n",
              "      <td>neg</td>\n",
              "      <td>0.7</td>\n",
              "    </tr>\n",
              "    <tr>\n",
              "      <th>4</th>\n",
              "      <td>выиграть</td>\n",
              "      <td>победитель</td>\n",
              "      <td>neutr</td>\n",
              "      <td>0</td>\n",
              "    </tr>\n",
              "  </tbody>\n",
              "</table>\n",
              "</div>"
            ],
            "text/plain": [
              "           predicate              role_a0 author_a0 value_author_a0\n",
              "0          надеяться    тот, кто надеется     neutr               0\n",
              "1         довериться  тот, кто доверяется     neutr               0\n",
              "2            умереть              умерший     neutr               0\n",
              "3  дохнуть (умирать)              умерший       neg             0.7\n",
              "4           выиграть           победитель     neutr               0"
            ]
          },
          "metadata": {
            "tags": []
          },
          "execution_count": 6
        }
      ]
    },
    {
      "cell_type": "code",
      "metadata": {
        "colab": {
          "base_uri": "https://localhost:8080/",
          "height": 0
        },
        "id": "ght0v937doG6",
        "outputId": "1740bcb9-9793-4a93-c3dd-a16935835ba7"
      },
      "source": [
        "df_big.head()"
      ],
      "execution_count": 7,
      "outputs": [
        {
          "output_type": "execute_result",
          "data": {
            "text/html": [
              "<div>\n",
              "<style scoped>\n",
              "    .dataframe tbody tr th:only-of-type {\n",
              "        vertical-align: middle;\n",
              "    }\n",
              "\n",
              "    .dataframe tbody tr th {\n",
              "        vertical-align: top;\n",
              "    }\n",
              "\n",
              "    .dataframe thead th {\n",
              "        text-align: right;\n",
              "    }\n",
              "</style>\n",
              "<table border=\"1\" class=\"dataframe\">\n",
              "  <thead>\n",
              "    <tr style=\"text-align: right;\">\n",
              "      <th></th>\n",
              "      <th>predicate</th>\n",
              "      <th>role_a0</th>\n",
              "      <th>author_a0</th>\n",
              "      <th>value_author_a0</th>\n",
              "    </tr>\n",
              "  </thead>\n",
              "  <tbody>\n",
              "    <tr>\n",
              "      <th>0</th>\n",
              "      <td>надеяться</td>\n",
              "      <td>тот, кто надеется</td>\n",
              "      <td>neutr</td>\n",
              "      <td>0</td>\n",
              "    </tr>\n",
              "    <tr>\n",
              "      <th>1</th>\n",
              "      <td>ждать</td>\n",
              "      <td>тот, кто надеется</td>\n",
              "      <td>neutr</td>\n",
              "      <td>0</td>\n",
              "    </tr>\n",
              "    <tr>\n",
              "      <th>2</th>\n",
              "      <td>опереться</td>\n",
              "      <td>тот, кто надеется</td>\n",
              "      <td>neutr</td>\n",
              "      <td>0</td>\n",
              "    </tr>\n",
              "    <tr>\n",
              "      <th>3</th>\n",
              "      <td>опираться</td>\n",
              "      <td>тот, кто надеется</td>\n",
              "      <td>neutr</td>\n",
              "      <td>0</td>\n",
              "    </tr>\n",
              "    <tr>\n",
              "      <th>4</th>\n",
              "      <td>чаять</td>\n",
              "      <td>тот, кто надеется</td>\n",
              "      <td>neutr</td>\n",
              "      <td>0</td>\n",
              "    </tr>\n",
              "  </tbody>\n",
              "</table>\n",
              "</div>"
            ],
            "text/plain": [
              "   predicate            role_a0 author_a0 value_author_a0\n",
              "0  надеяться  тот, кто надеется     neutr               0\n",
              "1      ждать  тот, кто надеется     neutr               0\n",
              "2  опереться  тот, кто надеется     neutr               0\n",
              "3  опираться  тот, кто надеется     neutr               0\n",
              "4      чаять  тот, кто надеется     neutr               0"
            ]
          },
          "metadata": {
            "tags": []
          },
          "execution_count": 7
        }
      ]
    },
    {
      "cell_type": "code",
      "metadata": {
        "id": "nllwOWXseO0P"
      },
      "source": [
        "#df_big.to_csv('df_big.csv')\n",
        "#df_little.to_csv('df_little.csv')"
      ],
      "execution_count": 8,
      "outputs": []
    },
    {
      "cell_type": "markdown",
      "metadata": {
        "id": "nYv9hEjUe5k8"
      },
      "source": [
        "# 2. Выделяем контексты предикатов из корпусов\n"
      ]
    },
    {
      "cell_type": "markdown",
      "metadata": {
        "id": "V8kP0OXSvlZ-"
      },
      "source": [
        "### 2.1 Корпус Ru_syntagrus"
      ]
    },
    {
      "cell_type": "markdown",
      "metadata": {
        "id": "MfU0zgZ7vuht"
      },
      "source": [
        "### 2.1.1 скачиваем и парсим данные\n"
      ]
    },
    {
      "cell_type": "code",
      "metadata": {
        "colab": {
          "base_uri": "https://localhost:8080/"
        },
        "id": "I3PGhTt_e418",
        "outputId": "50f47ca2-8aa8-4f63-ce18-98cf1f27053b"
      },
      "source": [
        "!wget https://raw.githubusercontent.com/UniversalDependencies/UD_Russian-SynTagRus/master/ru_syntagrus-ud-train.conllu"
      ],
      "execution_count": 9,
      "outputs": [
        {
          "output_type": "stream",
          "text": [
            "--2021-05-24 12:51:49--  https://raw.githubusercontent.com/UniversalDependencies/UD_Russian-SynTagRus/master/ru_syntagrus-ud-train.conllu\n",
            "Resolving raw.githubusercontent.com (raw.githubusercontent.com)... 185.199.109.133, 185.199.111.133, 185.199.110.133, ...\n",
            "Connecting to raw.githubusercontent.com (raw.githubusercontent.com)|185.199.109.133|:443... connected.\n",
            "HTTP request sent, awaiting response... 200 OK\n",
            "Length: 81039282 (77M) [text/plain]\n",
            "Saving to: ‘ru_syntagrus-ud-train.conllu’\n",
            "\n",
            "ru_syntagrus-ud-tra 100%[===================>]  77.28M  50.1MB/s    in 1.5s    \n",
            "\n",
            "2021-05-24 12:51:59 (50.1 MB/s) - ‘ru_syntagrus-ud-train.conllu’ saved [81039282/81039282]\n",
            "\n"
          ],
          "name": "stdout"
        }
      ]
    },
    {
      "cell_type": "code",
      "metadata": {
        "id": "6vDXnuTgsyUt"
      },
      "source": [
        "synt = open('ru_syntagrus-ud-train.conllu', 'r')\n",
        "\n",
        "s = synt.read()\n",
        "synt.close()"
      ],
      "execution_count": 10,
      "outputs": []
    },
    {
      "cell_type": "code",
      "metadata": {
        "colab": {
          "base_uri": "https://localhost:8080/"
        },
        "id": "fDyMv9ETs2Tg",
        "outputId": "33792b27-e61e-495a-db5d-627af920e0eb"
      },
      "source": [
        "!pip install conllu"
      ],
      "execution_count": 11,
      "outputs": [
        {
          "output_type": "stream",
          "text": [
            "Collecting conllu\n",
            "  Downloading https://files.pythonhosted.org/packages/ae/be/be6959c3ff2dbfdd87de4be0ccdff577835b5d08b1d25bf7fd4aaf0d7add/conllu-4.4-py2.py3-none-any.whl\n",
            "Installing collected packages: conllu\n",
            "Successfully installed conllu-4.4\n"
          ],
          "name": "stdout"
        }
      ]
    },
    {
      "cell_type": "code",
      "metadata": {
        "id": "NgcpfT5Ls68J"
      },
      "source": [
        "from conllu import parse_tree\n",
        "from conllu import parse"
      ],
      "execution_count": 12,
      "outputs": []
    },
    {
      "cell_type": "code",
      "metadata": {
        "id": "pEcauwfps_MI"
      },
      "source": [
        "sentences = parse(s)\n",
        "trees = parse_tree(s)"
      ],
      "execution_count": 13,
      "outputs": []
    },
    {
      "cell_type": "code",
      "metadata": {
        "colab": {
          "base_uri": "https://localhost:8080/"
        },
        "id": "V6qIHZPNAdbV",
        "outputId": "c0a23882-d599-41da-8e37-e44431a1933c"
      },
      "source": [
        "sentences[1][1]"
      ],
      "execution_count": 14,
      "outputs": [
        {
          "output_type": "execute_result",
          "data": {
            "text/plain": [
              "{'deprel': 'amod',\n",
              " 'deps': [('amod', 3)],\n",
              " 'feats': {'Case': 'Gen', 'Degree': 'Pos', 'Gender': 'Neut', 'Number': 'Sing'},\n",
              " 'form': 'областного',\n",
              " 'head': 3,\n",
              " 'id': 2,\n",
              " 'lemma': 'областной',\n",
              " 'misc': None,\n",
              " 'upos': 'ADJ',\n",
              " 'xpos': None}"
            ]
          },
          "metadata": {
            "tags": []
          },
          "execution_count": 14
        }
      ]
    },
    {
      "cell_type": "code",
      "metadata": {
        "colab": {
          "base_uri": "https://localhost:8080/"
        },
        "id": "cFtuwzvOtB5g",
        "outputId": "2dbc4efb-9744-41eb-f12c-3d97c32c64e1"
      },
      "source": [
        "len(sentences)"
      ],
      "execution_count": 15,
      "outputs": [
        {
          "output_type": "execute_result",
          "data": {
            "text/plain": [
              "48814"
            ]
          },
          "metadata": {
            "tags": []
          },
          "execution_count": 15
        }
      ]
    },
    {
      "cell_type": "markdown",
      "metadata": {
        "id": "GPXBKyyxv7wj"
      },
      "source": [
        "### 2.1.2 Сделаем датафрейм с названиями документов и самими текстами."
      ]
    },
    {
      "cell_type": "code",
      "metadata": {
        "colab": {
          "base_uri": "https://localhost:8080/"
        },
        "id": "Nu5ygrZDtQXH",
        "outputId": "a2822f91-cd20-44a4-de3e-ce0487135855"
      },
      "source": [
        "doc_names = []\n",
        "doc_texts = []\n",
        "names_used  = []\n",
        "count_sent = 0\n",
        "\n",
        "for sentence in tqdm(sentences):\n",
        "  if sentence.metadata['sent_id'].split('_')[0] in names_used:\n",
        "    doc_texts[-1] += ' ' + sentence.metadata['text']\n",
        "  else:\n",
        "    doc_texts.append(sentence.metadata['text'])\n",
        "    doc_names.append(sentence.metadata['sent_id'].split('_')[0])\n",
        "    names_used.append(sentence.metadata['sent_id'].split('_')[0])"
      ],
      "execution_count": 16,
      "outputs": [
        {
          "output_type": "stream",
          "text": [
            "100%|██████████| 48814/48814 [00:01<00:00, 45846.78it/s] \n"
          ],
          "name": "stderr"
        }
      ]
    },
    {
      "cell_type": "code",
      "metadata": {
        "id": "gawiCNWEwM9L"
      },
      "source": [
        "df_docs = pd.DataFrame()\n",
        "df_docs['doc_name'] = doc_names\n",
        "df_docs['doc_text'] = doc_texts"
      ],
      "execution_count": 17,
      "outputs": []
    },
    {
      "cell_type": "code",
      "metadata": {
        "id": "PTnkPASBwOA-"
      },
      "source": [
        "#df_docs.to_csv('df_docs_synt.csv')"
      ],
      "execution_count": 18,
      "outputs": []
    },
    {
      "cell_type": "markdown",
      "metadata": {
        "id": "5gJNDmCHwcE2"
      },
      "source": [
        "### 2.1.3 Выделяем контексты для глаголов\n"
      ]
    },
    {
      "cell_type": "code",
      "metadata": {
        "colab": {
          "base_uri": "https://localhost:8080/"
        },
        "id": "NBxF_53eyepj",
        "outputId": "c5aecd55-e272-496a-8c62-ef346b783181"
      },
      "source": [
        "verb_neg_a0 = [verb for verb in df_little.predicate.values if len(verb.split()) == 1 and df_little[df_little['predicate'] == verb].author_a0.values[0] == 'neg']\n",
        "verb_pos_a0 = [verb for verb in df_little.predicate.values if len(verb.split()) == 1 and df_little[df_little['predicate'] == verb].author_a0.values[0] == 'pos']\n",
        "verb_neutr_a0 = [verb for verb in df_little.predicate.values if len(verb.split()) == 1 and df_little[df_little['predicate'] == verb].author_a0.values[0] == 'neutr']\n",
        "print('Длина списка позитивных глаголов: ', len(verb_pos_a0))\n",
        "print('Длина списка негативных глаголов: ', len(verb_neg_a0))\n",
        "print('Длина списка нейтральных глаголов: ', len(verb_neutr_a0))"
      ],
      "execution_count": 19,
      "outputs": [
        {
          "output_type": "stream",
          "text": [
            "Длина списка позитивных глаголов:  12\n",
            "Длина списка негативных глаголов:  68\n",
            "Длина списка нейтральных глаголов:  200\n"
          ],
          "name": "stdout"
        }
      ]
    },
    {
      "cell_type": "code",
      "metadata": {
        "colab": {
          "base_uri": "https://localhost:8080/"
        },
        "id": "F3zZO0nQ44Jv",
        "outputId": "bbfcfaab-f0a1-48b9-a602-7ffef229261a"
      },
      "source": [
        "verb_pos_a0"
      ],
      "execution_count": 20,
      "outputs": [
        {
          "output_type": "execute_result",
          "data": {
            "text/plain": [
              "['карать',\n",
              " 'предотвратить',\n",
              " 'обезвредить',\n",
              " 'вразумить',\n",
              " 'воодушевить',\n",
              " 'ладить',\n",
              " 'изобличить',\n",
              " 'подобать',\n",
              " 'развить',\n",
              " 'развиваться',\n",
              " 'постичь',\n",
              " 'почить']"
            ]
          },
          "metadata": {
            "tags": []
          },
          "execution_count": 20
        }
      ]
    },
    {
      "cell_type": "code",
      "metadata": {
        "id": "ajZ-c5jywrlY"
      },
      "source": [
        "def extract_tree(root, a0_word, a0_lemma, pos):  #функция для выделения группы\n",
        "  if a0_lemma == '':\n",
        "    a0_lemma = root.token['lemma']\n",
        "    a0_word = root.token['form']\n",
        "    pos = str(root.token['id'])\n",
        "  else:\n",
        "    a0_lemma += ' ' + root.token['lemma']\n",
        "    a0_word += ' ' + root.token['form']\n",
        "    pos += ' ' + str(root.token['id'])\n",
        "  for child in root.children:\n",
        "    a0_word, a0_lemma, pos = extract_tree(child, a0_word, a0_lemma, pos)\n",
        "    \n",
        "  return a0_word, a0_lemma, pos"
      ],
      "execution_count": 21,
      "outputs": []
    },
    {
      "cell_type": "code",
      "metadata": {
        "id": "wI0zVzvwwrnU"
      },
      "source": [
        "def search_tree(root, lemma): #поиск в дереве конкретного токена\n",
        "  if root.token['lemma'] == lemma:\n",
        "    return root\n",
        "  else:\n",
        "    for child in root.children:\n",
        "      answ = search_tree(child, lemma)\n",
        "      if answ is not None:\n",
        "        return answ"
      ],
      "execution_count": 22,
      "outputs": []
    },
    {
      "cell_type": "code",
      "metadata": {
        "id": "FFl7bwnywrpg"
      },
      "source": [
        "def get_contexts(verb_list):\n",
        "  lemmas = []\n",
        "  a0 = []\n",
        "  a0_l = []\n",
        "  sent_ids = []\n",
        "  sents = []\n",
        "  docs = []\n",
        "  single_words = []\n",
        "  position_s_word = []\n",
        "  positions = []\n",
        "\n",
        "\n",
        "  for i, sentence in enumerate(sentences):\n",
        "    for verb in verb_list:\n",
        "      if verb == None:\n",
        "        continue\n",
        "      for word in sentence:\n",
        "        if str(word['lemma']) == verb:  #если слово совпадает с текущим глаголом и его форма финитная (инфинитивы непоказательны)\n",
        "          if 'VerbForm' in word['feats']: \n",
        "            if word['feats']['VerbForm'] == 'Fin':\n",
        "              root = trees[i]\n",
        "              a0_word = ''\n",
        "              a0_lemma = ''\n",
        "              s_word = ''\n",
        "              position = ''\n",
        "              pos_s = ''\n",
        "              verb_token = search_tree(root, verb)  #нашли в дереве токен нашего глагола\n",
        "              for child in verb_token.children:  #среди зависимых ищем субъект\n",
        "                if child.token['deprel'] == 'nsubj' or child.token['deprel'] == 'csubj':\n",
        "                  s_word = child.token['form']\n",
        "                  pos_s = str(child.token['id'])\n",
        "                  a0_word, a0_lemma, position = extract_tree(child, a0_word, a0_lemma, position) #выделяем субъектую группу и дальше можно не идти\n",
        "              \n",
        "              if a0_word == 'который':   #если это слово который, то берем его вершину\n",
        "                head_word_n = word['head']\n",
        "                head_word = sentence.filter(id=head_word_n)\n",
        "                a0_word = head_word[0]['form']\n",
        "                a0_lemma = head_word[0]['lemma']\n",
        "                s_word = head_word[0]['form']\n",
        "                pos_s = str(head_word[0]['id'])\n",
        "                position = str(head_word[0]['id'])\n",
        "            \n",
        "              if a0_word == '': #учитываем случай сочинения, берем вершину второго глагола\n",
        "                head_word_n = word['head']\n",
        "                head_word = sentence.filter(id=head_word_n)\n",
        "                if len(head_word) > 0:\n",
        "                  if head_word[0]['upos'] == 'VERB':\n",
        "                    head_token = search_tree(root,  head_word[0]['lemma'])\n",
        "                    for child in head_token.children:\n",
        "                      if child.token['deprel'] == 'nsubj':\n",
        "                        a0_word = child.token['form']\n",
        "                        a0_lemma = child.token['lemma']\n",
        "                        s_word = child.token['form']\n",
        "                        pos_s = str(child.token['id'])\n",
        "                        position = str(child.token['id'])\n",
        "              \n",
        "\n",
        "              a0.append(a0_word)\n",
        "              a0_l.append(a0_lemma)\n",
        "              single_words.append(s_word)\n",
        "              lemmas.append(verb)\n",
        "              sent_ids.append(i)\n",
        "              sents.append(sentence.metadata['text'])\n",
        "              docs.append(sentence.metadata['sent_id'])\n",
        "              positions.append(position)\n",
        "              position_s_word.append(pos_s)\n",
        "              \n",
        "\n",
        "  df = pd.DataFrame()\n",
        "  df['verb'] = lemmas\n",
        "  df['a0'] = a0\n",
        "  df['positions'] = positions\n",
        "  df['a0_single_word'] = single_words\n",
        "  df['position_single'] = position_s_word\n",
        "  df['sentence'] = sents\n",
        "  df['doc'] = docs\n",
        "\n",
        "  return df"
      ],
      "execution_count": 23,
      "outputs": []
    },
    {
      "cell_type": "code",
      "metadata": {
        "id": "hsxWFVFllgsy"
      },
      "source": [
        "df_pos_a0 = get_contexts(verb_pos_a0)"
      ],
      "execution_count": 24,
      "outputs": []
    },
    {
      "cell_type": "code",
      "metadata": {
        "id": "zzKRHM2Uwrrx"
      },
      "source": [
        "df_neg_a0 = get_contexts(verb_neg_a0)"
      ],
      "execution_count": 25,
      "outputs": []
    },
    {
      "cell_type": "code",
      "metadata": {
        "id": "jkL72YvX5dRw"
      },
      "source": [
        "df_neutr_a0 = get_contexts(verb_neutr_a0)"
      ],
      "execution_count": 26,
      "outputs": []
    },
    {
      "cell_type": "code",
      "metadata": {
        "colab": {
          "base_uri": "https://localhost:8080/"
        },
        "id": "buNMfRlFd_es",
        "outputId": "79522980-ba31-46f0-a223-246840ac77ef"
      },
      "source": [
        "print('Длина списка позитивных глаголов: ', len(df_pos_a0))\n",
        "print('Длина списка негативных глаголов: ', len(df_neg_a0))\n",
        "print('Длина списка нейтральных глаголов: ', len(df_neutr_a0))\n"
      ],
      "execution_count": 27,
      "outputs": [
        {
          "output_type": "stream",
          "text": [
            "Длина списка позитивных глаголов:  79\n",
            "Длина списка негативных глаголов:  239\n",
            "Длина списка нейтральных глаголов:  4949\n"
          ],
          "name": "stdout"
        }
      ]
    },
    {
      "cell_type": "markdown",
      "metadata": {
        "id": "s6X8nOiMv0Jo"
      },
      "source": [
        "### 2.2 Добавим контексты для положительных предикатов"
      ]
    },
    {
      "cell_type": "code",
      "metadata": {
        "id": "CXYvPS7t-pyL"
      },
      "source": [
        "df_positive = pd.read_csv('df_positive.csv')"
      ],
      "execution_count": 28,
      "outputs": []
    },
    {
      "cell_type": "code",
      "metadata": {
        "colab": {
          "base_uri": "https://localhost:8080/"
        },
        "id": "kkhRZveAAEQI",
        "outputId": "631e48a1-1b1a-4e86-b094-682a6dca2c16"
      },
      "source": [
        " df_positive['verb'].unique().tolist()"
      ],
      "execution_count": 29,
      "outputs": [
        {
          "output_type": "execute_result",
          "data": {
            "text/plain": [
              "['обезвредить',\n",
              " 'вразумить',\n",
              " 'ладить',\n",
              " 'подобать',\n",
              " 'карать',\n",
              " 'предотвратить',\n",
              " 'воодушевить',\n",
              " 'изобличить',\n",
              " 'развить',\n",
              " 'развиваться',\n",
              " 'постичь',\n",
              " 'почить']"
            ]
          },
          "metadata": {
            "tags": []
          },
          "execution_count": 29
        }
      ]
    },
    {
      "cell_type": "code",
      "metadata": {
        "colab": {
          "base_uri": "https://localhost:8080/"
        },
        "id": "A5BavFPnOWK0",
        "outputId": "b7c93f3e-f6fd-481c-91ea-7e372fdea703"
      },
      "source": [
        "! pip install natasha\n"
      ],
      "execution_count": 30,
      "outputs": [
        {
          "output_type": "stream",
          "text": [
            "Collecting natasha\n",
            "\u001b[?25l  Downloading https://files.pythonhosted.org/packages/51/8e/ab0745100be276750fb6b8858c6180a1756696572295a74eb5aea77f3bbd/natasha-1.4.0-py3-none-any.whl (34.4MB)\n",
            "\u001b[K     |████████████████████████████████| 34.4MB 87kB/s \n",
            "\u001b[?25hRequirement already satisfied: pymorphy2 in /usr/local/lib/python3.7/dist-packages (from natasha) (0.8)\n",
            "Collecting navec>=0.9.0\n",
            "  Downloading https://files.pythonhosted.org/packages/bc/c1/771ec5565f0ce24874d7fd325b429f9caa80517a40d2e4ce5705120591f3/navec-0.10.0-py3-none-any.whl\n",
            "Collecting slovnet>=0.3.0\n",
            "\u001b[?25l  Downloading https://files.pythonhosted.org/packages/a9/3b/f1ef495be8990004959dd0510c95f688d1b07529f6a862bc56a405770b26/slovnet-0.5.0-py3-none-any.whl (49kB)\n",
            "\u001b[K     |████████████████████████████████| 51kB 6.0MB/s \n",
            "\u001b[?25hCollecting razdel>=0.5.0\n",
            "  Downloading https://files.pythonhosted.org/packages/15/2c/664223a3924aa6e70479f7d37220b3a658765b9cfe760b4af7ffdc50d38f/razdel-0.5.0-py3-none-any.whl\n",
            "Collecting yargy>=0.14.0\n",
            "\u001b[?25l  Downloading https://files.pythonhosted.org/packages/d3/46/bc1a17200a55f4b0608f39ac64f1840fd4a52f9eeea462d9afecbf71246b/yargy-0.15.0-py3-none-any.whl (41kB)\n",
            "\u001b[K     |████████████████████████████████| 51kB 5.7MB/s \n",
            "\u001b[?25hCollecting ipymarkup>=0.8.0\n",
            "  Downloading https://files.pythonhosted.org/packages/bf/9b/bf54c98d50735a4a7c84c71e92c5361730c878ebfe903d2c2d196ef66055/ipymarkup-0.9.0-py3-none-any.whl\n",
            "Requirement already satisfied: pymorphy2-dicts<3.0,>=2.4 in /usr/local/lib/python3.7/dist-packages (from pymorphy2->natasha) (2.4.393442.3710985)\n",
            "Requirement already satisfied: dawg-python>=0.7 in /usr/local/lib/python3.7/dist-packages (from pymorphy2->natasha) (0.7.2)\n",
            "Requirement already satisfied: docopt>=0.6 in /usr/local/lib/python3.7/dist-packages (from pymorphy2->natasha) (0.6.2)\n",
            "Requirement already satisfied: numpy in /usr/local/lib/python3.7/dist-packages (from navec>=0.9.0->natasha) (1.18.0)\n",
            "Collecting intervaltree>=3\n",
            "  Downloading https://files.pythonhosted.org/packages/50/fb/396d568039d21344639db96d940d40eb62befe704ef849b27949ded5c3bb/intervaltree-3.1.0.tar.gz\n",
            "Requirement already satisfied: sortedcontainers<3.0,>=2.0 in /usr/local/lib/python3.7/dist-packages (from intervaltree>=3->ipymarkup>=0.8.0->natasha) (2.3.0)\n",
            "Building wheels for collected packages: intervaltree\n",
            "  Building wheel for intervaltree (setup.py) ... \u001b[?25l\u001b[?25hdone\n",
            "  Created wheel for intervaltree: filename=intervaltree-3.1.0-py2.py3-none-any.whl size=26102 sha256=f3631e89ffea07d8971f22c0684c54b138cfeba81501703e3f88dc7ec30d389b\n",
            "  Stored in directory: /root/.cache/pip/wheels/f3/f2/66/e9c30d3e9499e65ea2fa0d07c002e64de63bd0adaa49c445bf\n",
            "Successfully built intervaltree\n",
            "Installing collected packages: navec, razdel, slovnet, yargy, intervaltree, ipymarkup, natasha\n",
            "  Found existing installation: intervaltree 2.1.0\n",
            "    Uninstalling intervaltree-2.1.0:\n",
            "      Successfully uninstalled intervaltree-2.1.0\n",
            "Successfully installed intervaltree-3.1.0 ipymarkup-0.9.0 natasha-1.4.0 navec-0.10.0 razdel-0.5.0 slovnet-0.5.0 yargy-0.15.0\n"
          ],
          "name": "stdout"
        }
      ]
    },
    {
      "cell_type": "code",
      "metadata": {
        "id": "yGgPNoTqOZOU"
      },
      "source": [
        "from natasha import (\n",
        "    Segmenter,\n",
        "    MorphVocab,\n",
        "    \n",
        "    NewsEmbedding,\n",
        "    NewsMorphTagger,\n",
        "    NewsSyntaxParser,\n",
        "\n",
        "    Doc\n",
        ")\n",
        "\n",
        "segmenter = Segmenter()\n",
        "morph_vocab = MorphVocab()\n",
        "\n",
        "emb = NewsEmbedding()\n",
        "morph_tagger = NewsMorphTagger(emb)\n",
        "syntax_parser = NewsSyntaxParser(emb)\n"
      ],
      "execution_count": 31,
      "outputs": []
    },
    {
      "cell_type": "code",
      "metadata": {
        "id": "0UmcofHcOefo"
      },
      "source": [
        "emb = NewsEmbedding()\n",
        "syntax_parser = NewsSyntaxParser(emb)\n",
        "segmenter = Segmenter()"
      ],
      "execution_count": 32,
      "outputs": []
    },
    {
      "cell_type": "code",
      "metadata": {
        "id": "10_-7r-YOgek"
      },
      "source": [
        "def extract_deps(word, sent, a0_word, a0_lemma, a0_p):\n",
        "  if 'который' in a0_lemma.split():\n",
        "    return a0_word, a0_lemma, a0_p\n",
        "  if a0_lemma == '':\n",
        "    a0_lemma = word.lemma\n",
        "    a0_word = word.text\n",
        "    a0_p = word.id.split('_')[1]\n",
        "  else:\n",
        "    a0_lemma += ' ' + word.lemma\n",
        "    a0_word += ' ' + word.text\n",
        "    a0_p += ' ' + word.id.split('_')[1]\n",
        "  \n",
        "  for el in sent:\n",
        "    if el.head_id == word.id:\n",
        "      a0_word, a0_lemma, a0_p = extract_deps(el, sent, a0_word, a0_lemma, a0_p)\n",
        "\n",
        "  return a0_word, a0_lemma, a0_p"
      ],
      "execution_count": 33,
      "outputs": []
    },
    {
      "cell_type": "code",
      "metadata": {
        "colab": {
          "base_uri": "https://localhost:8080/"
        },
        "id": "3JA9M_1eOiyJ",
        "outputId": "4f94c3e5-dd83-4d75-c5e7-37b1aa4888e8"
      },
      "source": [
        "lemmas = []\n",
        "a0 = []\n",
        "a0_l = []\n",
        "sent_ids = []\n",
        "sents = []\n",
        "a0_pos = []\n",
        "a0_single_pos = []\n",
        "a0_single = []\n",
        "c = 0\n",
        "for sentence in df_positive['sentence'].values:\n",
        "  c += 1\n",
        "  doc = Doc(sentence)\n",
        "  doc.segment(segmenter)\n",
        "  doc.tag_morph(morph_tagger)\n",
        "  for token in doc.tokens:\n",
        "    token.lemmatize(morph_vocab)\n",
        "  doc.parse_syntax(syntax_parser)\n",
        "\n",
        "  \n",
        "  for token in doc.tokens:\n",
        "    for verb in df_positive['verb'].unique().tolist():\n",
        "      if token.lemma == verb:\n",
        "        if 'VerbForm' in token.feats:\n",
        "          if token.feats['VerbForm'] == 'Fin':\n",
        "            verb_id = token.id\n",
        "            for i, word in enumerate(doc.tokens):\n",
        "              a0_word = ''\n",
        "              a0_lemma  = ''\n",
        "              a0_p = ''\n",
        "              a0_s = ''\n",
        "              a0_s_p = ''\n",
        "\n",
        "              if word.head_id == verb_id and word.rel == 'nsubj' and word.pos != 'NUM':\n",
        "                try:\n",
        "                  a0_s = word.text\n",
        "                  a0_s_p = str(i + 1)\n",
        "                  a0_word, a0_lemma, a0_p = extract_deps(word, doc.tokens, a0_word, a0_lemma, a0_p)\n",
        "\n",
        "                  if a0_lemma == 'который':\n",
        "                    for j, another_word in enumerate(doc.tokens):\n",
        "                      if another_word.id == token.head_id:\n",
        "                        a0_s_p = str(j+1)\n",
        "                        a0_s = another_word.text\n",
        "                        a0_word, a0_lemma, a0_p = extract_deps(another_word, doc.tokens, a0_word='', a0_lemma = '', a0_p = '') \n",
        "                        break\n",
        "                  a0_p = [pos for pos, word in zip(a0_p.split(), a0_lemma.split()) if word not in [',', '―', 'который', verb]]\n",
        "                  a0_word = [word for word, lemma in zip(a0_word.split(), a0_lemma.split()) if lemma not in [',', '―', verb, 'который']]\n",
        "\n",
        "                  a0_p = ' '.join(a0_p)\n",
        "                  a0_word = ' '.join(a0_word)\n",
        "\n",
        "                  a0.append(a0_word)\n",
        "                  a0_pos.append(a0_p)\n",
        "                  lemmas.append(verb)  \n",
        "                  sents.append(doc.text)\n",
        "                  a0_single.append(a0_s)\n",
        "                  a0_single_pos.append(a0_s_p)\n",
        "          \n",
        "                except RecursionError:\n",
        "                  print(doc.text, word)\n",
        "                  continue    \n",
        "                break\n",
        "\n",
        "  "
      ],
      "execution_count": 34,
      "outputs": [
        {
          "output_type": "stream",
          "text": [
            "Наконец смертельная тоска, рожденная безумной надеждой, воодушевила его. DocToken(start=20, stop=25, text='тоска', id='1_3', head_id='1_9', rel='nsubj', pos='NOUN', feats=<Inan,Nom,Fem,Sing>, lemma='тоска')\n"
          ],
          "name": "stdout"
        }
      ]
    },
    {
      "cell_type": "code",
      "metadata": {
        "id": "MMmxTxbsPKV5"
      },
      "source": [
        "df_pos_a0 = pd.DataFrame()\n",
        "df_pos_a0['verb'] = lemmas\n",
        "df_pos_a0['a0'] = a0\n",
        "df_pos_a0['positions'] = a0_pos\n",
        "df_pos_a0['a0_single_word'] = a0_single\n",
        "df_pos_a0['position_single'] = a0_single_pos\n",
        "df_pos_a0['sentence'] = sents"
      ],
      "execution_count": 35,
      "outputs": []
    },
    {
      "cell_type": "code",
      "metadata": {
        "colab": {
          "base_uri": "https://localhost:8080/"
        },
        "id": "-kFdcgD_PMOG",
        "outputId": "1004ce97-d625-4740-bedd-39755264a453"
      },
      "source": [
        "df_pos_a0.verb.value_counts()"
      ],
      "execution_count": 36,
      "outputs": [
        {
          "output_type": "execute_result",
          "data": {
            "text/plain": [
              "развиваться      20\n",
              "обезвредить      17\n",
              "развить          16\n",
              "предотвратить    15\n",
              "ладить           13\n",
              "карать           13\n",
              "вразумить        10\n",
              "воодушевить      10\n",
              "изобличить        8\n",
              "почить            6\n",
              "подобать          2\n",
              "постичь           1\n",
              "Name: verb, dtype: int64"
            ]
          },
          "metadata": {
            "tags": []
          },
          "execution_count": 36
        }
      ]
    },
    {
      "cell_type": "markdown",
      "metadata": {
        "id": "L9MCabJvtQqL"
      },
      "source": [
        "# 3. Создаем эмбеддинги для аргументов и анализируем полярность\n",
        "\n",
        "\n"
      ]
    },
    {
      "cell_type": "markdown",
      "metadata": {
        "id": "XrTzHA2olmhH"
      },
      "source": [
        "## 3.1 Скачиваем словарь RuSentiLex для формирования сидов  - НЕ НУЖНО"
      ]
    },
    {
      "cell_type": "code",
      "metadata": {
        "colab": {
          "base_uri": "https://localhost:8080/"
        },
        "id": "DcP5rrpjlyNo",
        "outputId": "78e57792-40b4-48ce-9e65-9fe74a0f3eab"
      },
      "source": [
        "!wget https://raw.githubusercontent.com/eszakharova/TextPopularityEstimation/master/preprocessing/rusentilex_2017.txt"
      ],
      "execution_count": 37,
      "outputs": [
        {
          "output_type": "stream",
          "text": [
            "--2021-05-24 12:54:36--  https://raw.githubusercontent.com/eszakharova/TextPopularityEstimation/master/preprocessing/rusentilex_2017.txt\n",
            "Resolving raw.githubusercontent.com (raw.githubusercontent.com)... 185.199.109.133, 185.199.111.133, 185.199.110.133, ...\n",
            "Connecting to raw.githubusercontent.com (raw.githubusercontent.com)|185.199.109.133|:443... connected.\n",
            "HTTP request sent, awaiting response... 200 OK\n",
            "Length: 1329239 (1.3M) [text/plain]\n",
            "Saving to: ‘rusentilex_2017.txt’\n",
            "\n",
            "rusentilex_2017.txt 100%[===================>]   1.27M  7.62MB/s    in 0.2s    \n",
            "\n",
            "2021-05-24 12:54:36 (7.62 MB/s) - ‘rusentilex_2017.txt’ saved [1329239/1329239]\n",
            "\n"
          ],
          "name": "stdout"
        }
      ]
    },
    {
      "cell_type": "code",
      "metadata": {
        "id": "kUhjiljfl4h1"
      },
      "source": [
        "fs = open('rusentilex_2017.txt', 'r')\n",
        "pre_sent_arr = [line.split(', ') for line in fs.readlines() if not line.startswith('!')]\n",
        "fs.close()\n",
        "sent_words = []\n",
        "sent_scores = []\n",
        "sent_lemmas = []\n",
        "for i in range(len(pre_sent_arr)):\n",
        "  if pre_sent_arr[i][3] in ['positive', 'negative', 'neutral'] and len(pre_sent_arr[i]) == 5:\n",
        "    sent_words.append(pre_sent_arr[i][0])\n",
        "    sent_lemmas.append(pre_sent_arr[i][2])\n",
        "    sent_scores.append(pre_sent_arr[i][3])"
      ],
      "execution_count": 38,
      "outputs": []
    },
    {
      "cell_type": "code",
      "metadata": {
        "colab": {
          "base_uri": "https://localhost:8080/"
        },
        "id": "mH9WeyLMl-Pl",
        "outputId": "049bef05-ad25-47dc-8037-f9b9d30c1337"
      },
      "source": [
        "dy = pd.DataFrame()\n",
        "dy['word'] = [word for i, word in enumerate(sent_words)]\n",
        "dy['lemma'] = [word for word in sent_lemmas]\n",
        "dy['label'] = [score for i, score in enumerate(sent_scores)]\n",
        "dy['label'].value_counts()"
      ],
      "execution_count": 39,
      "outputs": [
        {
          "output_type": "execute_result",
          "data": {
            "text/plain": [
              "negative    8462\n",
              "positive    2880\n",
              "neutral      503\n",
              "Name: label, dtype: int64"
            ]
          },
          "metadata": {
            "tags": []
          },
          "execution_count": 39
        }
      ]
    },
    {
      "cell_type": "markdown",
      "metadata": {
        "id": "bM7uBPbEtY0g"
      },
      "source": [
        "## 3.2 Эмбеддинги Deeppavlov bert_embedder"
      ]
    },
    {
      "cell_type": "markdown",
      "metadata": {
        "id": "UpuaYZARq-AL"
      },
      "source": [
        "### Устанавливаем библиотеку и скачиваем модель"
      ]
    },
    {
      "cell_type": "code",
      "metadata": {
        "id": "abpKX_EouUDE"
      },
      "source": [
        "!pip install deeppavlov"
      ],
      "execution_count": null,
      "outputs": []
    },
    {
      "cell_type": "code",
      "metadata": {
        "id": "v3Q9t62atXY2"
      },
      "source": [
        "!python -m deeppavlov install bert_embedder.json\n"
      ],
      "execution_count": null,
      "outputs": []
    },
    {
      "cell_type": "code",
      "metadata": {
        "colab": {
          "base_uri": "https://localhost:8080/"
        },
        "id": "sj7vF81xuW69",
        "outputId": "cff7ecc1-7678-4956-d944-fd94ac75f669"
      },
      "source": [
        "!python -m deeppavlov download  bert_embedder.json\n"
      ],
      "execution_count": 42,
      "outputs": [
        {
          "output_type": "stream",
          "text": [
            "2021-05-24 12:57:46.519 INFO in 'deeppavlov.core.data.utils'['utils'] at line 95: Downloading from http://files.deeppavlov.ai/deeppavlov_data/bert/multi_cased_L-12_H-768_A-12_pt.tar.gz?config=bert_embedder to /root/.deeppavlov/downloads/multi_cased_L-12_H-768_A-12_pt.tar.gz\n",
            "100% 663M/663M [03:34<00:00, 3.09MB/s]\n",
            "2021-05-24 13:01:22.914 INFO in 'deeppavlov.core.data.utils'['utils'] at line 272: Extracting /root/.deeppavlov/downloads/multi_cased_L-12_H-768_A-12_pt.tar.gz archive into /root/.deeppavlov/downloads/bert_models\n"
          ],
          "name": "stdout"
        }
      ]
    },
    {
      "cell_type": "code",
      "metadata": {
        "id": "n3TH-HzmePgv",
        "colab": {
          "base_uri": "https://localhost:8080/"
        },
        "outputId": "e0ddfdf7-d810-4c59-a721-2e2513159b92"
      },
      "source": [
        "from deeppavlov import build_model, configs\n",
        "\n",
        "bert_embed = build_model(configs.embedder.bert_embedder)\n"
      ],
      "execution_count": 43,
      "outputs": [
        {
          "output_type": "stream",
          "text": [
            "[nltk_data] Downloading package punkt to /root/nltk_data...\n",
            "[nltk_data]   Unzipping tokenizers/punkt.zip.\n",
            "[nltk_data] Downloading package stopwords to /root/nltk_data...\n",
            "[nltk_data]   Unzipping corpora/stopwords.zip.\n",
            "[nltk_data] Downloading package perluniprops to /root/nltk_data...\n",
            "[nltk_data]   Unzipping misc/perluniprops.zip.\n",
            "[nltk_data] Downloading package nonbreaking_prefixes to\n",
            "[nltk_data]     /root/nltk_data...\n",
            "[nltk_data]   Unzipping corpora/nonbreaking_prefixes.zip.\n"
          ],
          "name": "stderr"
        }
      ]
    },
    {
      "cell_type": "code",
      "metadata": {
        "id": "ItJiPyKCKAPu"
      },
      "source": [
        "def get_embed(word):\n",
        "  tokens, token_embs, subtokens, subtoken_embs, sent_max_embs, sent_mean_embs, bert_pooler_outputs = bert_embed([word])\n",
        "  return np.average(token_embs[0], axis=0)"
      ],
      "execution_count": 44,
      "outputs": []
    },
    {
      "cell_type": "markdown",
      "metadata": {
        "id": "hpIA6CsD5-Q_"
      },
      "source": [
        "### Функция для подсчета схожести"
      ]
    },
    {
      "cell_type": "code",
      "metadata": {
        "id": "oSyKrT2Y5-aa"
      },
      "source": [
        "from scipy.spatial.distance import cosine\n",
        "\n",
        "def cossim(vec1, vec2):\n",
        "   return 1 - cosine(vec1, vec2)"
      ],
      "execution_count": 45,
      "outputs": []
    },
    {
      "cell_type": "markdown",
      "metadata": {
        "id": "13NnLghosK6s"
      },
      "source": [
        "### Создаем семантическую ось"
      ]
    },
    {
      "cell_type": "code",
      "metadata": {
        "id": "_nN6v0fmeRQg"
      },
      "source": [
        "def get_pole_centroid_bert(seed):\n",
        "  tokens, token_embs, subtokens, subtoken_embs, sent_max_embs, sent_mean_embs, bert_pooler_outputs = bert_embed(seed)\n",
        "  return np.average(token_embs, axis=0)"
      ],
      "execution_count": 46,
      "outputs": []
    },
    {
      "cell_type": "code",
      "metadata": {
        "id": "QoPI9qxqfWQt"
      },
      "source": [
        "negative_seed  = dy[dy['label'] == 'negative'].sample(20).lemma.values.tolist()\n",
        "positive_seed  = dy[dy['label'] == 'positive'].sample(20).lemma.values.tolist()"
      ],
      "execution_count": 47,
      "outputs": []
    },
    {
      "cell_type": "code",
      "metadata": {
        "id": "8vo1u2WgNjmh"
      },
      "source": [
        "positive_seed = ['хороший', 'милый', 'отличный', 'удача', 'приятно', 'радовать', 'идеал', 'удивительный', 'счастье', 'спасать', 'обожать']\n",
        "negative_seed = ['плохой', 'ужасный', 'бедный','грубость','отвратительно', 'ненавидеть', 'худший', 'страх','вранье', 'умирать','разочаровать']"
      ],
      "execution_count": 48,
      "outputs": []
    },
    {
      "cell_type": "code",
      "metadata": {
        "id": "-W_9WKV4fXWp"
      },
      "source": [
        "axis = get_pole_centroid_bert(positive_seed) - get_pole_centroid_bert(negative_seed)"
      ],
      "execution_count": 49,
      "outputs": []
    },
    {
      "cell_type": "code",
      "metadata": {
        "colab": {
          "base_uri": "https://localhost:8080/"
        },
        "id": "r9_lZmmeyAHW",
        "outputId": "eb3c35b6-9ec3-45dd-976d-d77730629366"
      },
      "source": [
        "cossim(axis, get_embed('веселый человек радуется'))"
      ],
      "execution_count": 50,
      "outputs": [
        {
          "output_type": "execute_result",
          "data": {
            "text/plain": [
              "0.01917908526957035"
            ]
          },
          "metadata": {
            "tags": []
          },
          "execution_count": 50
        }
      ]
    },
    {
      "cell_type": "code",
      "metadata": {
        "colab": {
          "base_uri": "https://localhost:8080/"
        },
        "id": "ilrwEA9byBTq",
        "outputId": "69d8abf5-fb06-4bbe-f962-109c7b0f7cca"
      },
      "source": [
        "cossim(axis, get_embed('грустный человек печалится'))"
      ],
      "execution_count": 51,
      "outputs": [
        {
          "output_type": "execute_result",
          "data": {
            "text/plain": [
              "-0.08913856744766235"
            ]
          },
          "metadata": {
            "tags": []
          },
          "execution_count": 51
        }
      ]
    },
    {
      "cell_type": "markdown",
      "metadata": {
        "id": "h9yT8qABtpyf"
      },
      "source": [
        "### Выберем глаголы для анализа"
      ]
    },
    {
      "cell_type": "code",
      "metadata": {
        "id": "mrAcrKNurhH6"
      },
      "source": [
        "pos_verbs_for_analysis = [verb for verb in df_pos_a0.verb.unique() if verb in  df_pos_a0[df_pos_a0['a0'] != ''].verb.value_counts() and df_pos_a0[df_pos_a0['a0'] != ''].verb.value_counts()[verb] > 5]\n",
        "neg_verbs_for_analysis = [verb for verb in df_neg_a0.verb.unique() if verb in  df_neg_a0[df_neg_a0['a0'] != ''].verb.value_counts() and df_neg_a0[df_neg_a0['a0'] != ''].verb.value_counts()[verb] > 5]\n",
        "#берем те глаголы, у которых больше 6 контекстов"
      ],
      "execution_count": 52,
      "outputs": []
    },
    {
      "cell_type": "code",
      "metadata": {
        "id": "FbeQVKPmvmDJ"
      },
      "source": [
        "import random\n",
        "neutr_verbs = [verb for verb in df_neutr_a0.verb.unique() if verb in  df_neutr_a0[df_neutr_a0['a0'] != ''].verb.value_counts() and df_neutr_a0[df_neutr_a0['a0'] != ''].verb.value_counts()[verb] > 6]\n",
        "neutr_verbs_for_analysis = random.sample(neutr_verbs, k = 15)"
      ],
      "execution_count": 53,
      "outputs": []
    },
    {
      "cell_type": "code",
      "metadata": {
        "colab": {
          "base_uri": "https://localhost:8080/"
        },
        "id": "1DDBK503v_qX",
        "outputId": "d03b7c23-c01a-4094-8ed9-782784c63bfc"
      },
      "source": [
        "print('Длина списка позитивных глаголов, которые использовались для анализа: ', len(pos_verbs_for_analysis))\n",
        "print('Длина списка негативных глаголов, которые использовались для анализа: ', len(neg_verbs_for_analysis))\n",
        "print('Длина списка нейтральных глаголов, которые использовались для анализа: ', len(neutr_verbs_for_analysis))"
      ],
      "execution_count": 54,
      "outputs": [
        {
          "output_type": "stream",
          "text": [
            "Длина списка позитивных глаголов, которые использовались для анализа:  10\n",
            "Длина списка негативных глаголов, которые использовались для анализа:  11\n",
            "Длина списка нейтральных глаголов, которые использовались для анализа:  15\n"
          ],
          "name": "stdout"
        }
      ]
    },
    {
      "cell_type": "code",
      "metadata": {
        "id": "EazRbd-mbWbU"
      },
      "source": [
        "neutr_verbs_for_analysis = ['уничтожить',\n",
        " 'объяснить',\n",
        " 'хотеть',\n",
        " 'убедить',\n",
        " 'считать',\n",
        " 'дарить',\n",
        " 'создать',\n",
        " 'помнить',\n",
        " 'обвинить',\n",
        " 'благодарить',\n",
        " 'умереть',\n",
        " 'любить',\n",
        " 'бросить',\n",
        " 'спасти',\n",
        " 'улыбаться']\n"
      ],
      "execution_count": 55,
      "outputs": []
    },
    {
      "cell_type": "markdown",
      "metadata": {
        "id": "Ub5PPlV3qjyc"
      },
      "source": [
        "### Создадим дф для сохранения результатов"
      ]
    },
    {
      "cell_type": "code",
      "metadata": {
        "id": "zqMaUgsYqtR4"
      },
      "source": [
        "df_rez_exp1 = pd.DataFrame()\n",
        "df_rez_exp2 = pd.DataFrame()"
      ],
      "execution_count": 60,
      "outputs": []
    },
    {
      "cell_type": "markdown",
      "metadata": {
        "id": "LU2axPiorIXc"
      },
      "source": [
        "### 3.2.1 по одному слову, контекст = предложение"
      ]
    },
    {
      "cell_type": "code",
      "metadata": {
        "id": "xdUYTQM2J8PO"
      },
      "source": [
        "import nltk\n",
        "from nltk.tokenize import sent_tokenize, word_tokenize\n",
        "def preproc(text):\n",
        "  #text_list = text.split()\n",
        "  #for i in range(len(text_list)):\n",
        "    #text_list[i] = text_list[i].strip('!.,?:;\\'\\\"')\n",
        "  #text = ' '.join(text_list)\n",
        "  text = word_tokenize(text, language='russian')\n",
        "  text = ' '.join(text)\n",
        "  return text"
      ],
      "execution_count": 56,
      "outputs": []
    },
    {
      "cell_type": "code",
      "metadata": {
        "id": "rIBHgjCrNIiu"
      },
      "source": [
        "def get_subj_embed_single(sentences, positions):\n",
        "  \n",
        "  for i, sentence in enumerate(sentences):\n",
        "    tokens, token_embs, subtokens, subtoken_embs, sent_max_embs, sent_mean_embs, bert_pooler_outputs = bert_embed([sentence])\n",
        "    if i == 0:\n",
        "      mean_subj_embed = np.zeros_like(token_embs[0][0])\n",
        "      sum_subj_embed = np.zeros_like(token_embs[0][0])\n",
        "    pos = int(positions[i]) - 1\n",
        "    mean_subj_embed += token_embs[0][pos]\n",
        "    sum_subj_embed += token_embs[0][pos]\n",
        "\n",
        "  return mean_subj_embed/len(token_embs), sum_subj_embed\n"
      ],
      "execution_count": 57,
      "outputs": []
    },
    {
      "cell_type": "code",
      "metadata": {
        "id": "EbVm1XVs-3CC"
      },
      "source": [
        "def get_mean_sum(verb_list, df):\n",
        "  mean_embs = []   #считаем сумму и среднее всех эмбеддингов субъектов (одно слово по предложению) для глаголов\n",
        "  sum_embs = []\n",
        "  for verb in verb_list:  \n",
        "\n",
        "    subj_list = df[df['verb'] == verb][df['a0'] != ''].a0_single_word.values.tolist()\n",
        "    sentences = df[df['verb'] == verb][df['a0'] != ''].sentence.values.tolist()\n",
        "    positions = df[df['verb'] == verb][df['a0'] != ''].position_single.values.tolist()\n",
        "\n",
        "    if len(subj_list) > 50:\n",
        "      m, s = get_subj_embed_single(sentences[:50], positions[:50])\n",
        "    else:\n",
        "      m, s = get_subj_embed_single(sentences[:50], positions[:50])\n",
        "\n",
        "    mean_embs.append(m)\n",
        "    sum_embs.append(s)\n",
        "\n",
        "  return mean_embs, sum_embs \n"
      ],
      "execution_count": 58,
      "outputs": []
    },
    {
      "cell_type": "code",
      "metadata": {
        "colab": {
          "base_uri": "https://localhost:8080/"
        },
        "id": "eFYI9yF9Jf3L",
        "outputId": "725f391d-33d7-44e4-fdc6-68b72030c753"
      },
      "source": [
        "neg_mean_embs, neg_sum_embs = get_mean_sum(neg_verbs_for_analysis, df_neg_a0) \n",
        "avg = 0\n",
        "rezs = []\n",
        "labels = []\n",
        "for i, mean in enumerate(neg_mean_embs):\n",
        "  rezs.append(cossim(axis, mean))\n",
        "  labels.append('neg')\n",
        "  print(neg_verbs_for_analysis[i], cossim(axis, mean))\n",
        "  avg += cossim(axis, mean)\n",
        "print('Среднее:', avg/len(neg_mean_embs))"
      ],
      "execution_count": 125,
      "outputs": [
        {
          "output_type": "stream",
          "text": [
            "/usr/local/lib/python3.7/dist-packages/ipykernel_launcher.py:6: UserWarning: Boolean Series key will be reindexed to match DataFrame index.\n",
            "  \n",
            "/usr/local/lib/python3.7/dist-packages/ipykernel_launcher.py:7: UserWarning: Boolean Series key will be reindexed to match DataFrame index.\n",
            "  import sys\n",
            "/usr/local/lib/python3.7/dist-packages/ipykernel_launcher.py:8: UserWarning: Boolean Series key will be reindexed to match DataFrame index.\n",
            "  \n"
          ],
          "name": "stderr"
        },
        {
          "output_type": "stream",
          "text": [
            "стрелять -0.0009422995499335229\n",
            "подвести -0.017574552446603775\n",
            "надоесть -0.02901364117860794\n",
            "грозить -0.047074250876903534\n",
            "нарушить -0.05860564112663269\n",
            "провоцировать 0.0012247080449014902\n",
            "игнорировать -0.010903555899858475\n",
            "мучить -0.0006883962778374553\n",
            "обидеть -0.016112325713038445\n",
            "убить 0.013129172846674919\n",
            "захватить 0.01868445985019207\n",
            "Среднее: -0.013443302029786124\n"
          ],
          "name": "stdout"
        }
      ]
    },
    {
      "cell_type": "code",
      "metadata": {
        "colab": {
          "base_uri": "https://localhost:8080/"
        },
        "id": "kht9nD6moNBo",
        "outputId": "606b4275-e19a-449d-8e1e-5df6dbfbabe9"
      },
      "source": [
        "neutr_mean_embs, neutr_sum_embs = get_mean_sum(neutr_verbs_for_analysis, df_neutr_a0)\n",
        "avg = 0\n",
        "for i, mean in enumerate(neutr_mean_embs):\n",
        "  rezs.append(cossim(axis, mean))\n",
        "  labels.append('neutr')\n",
        "  print(neutr_verbs_for_analysis[i], cossim(axis, mean))\n",
        "  avg += cossim(axis, mean)\n",
        "print('Среднее:', avg/len(neutr_mean_embs))"
      ],
      "execution_count": 126,
      "outputs": [
        {
          "output_type": "stream",
          "text": [
            "/usr/local/lib/python3.7/dist-packages/ipykernel_launcher.py:6: UserWarning: Boolean Series key will be reindexed to match DataFrame index.\n",
            "  \n",
            "/usr/local/lib/python3.7/dist-packages/ipykernel_launcher.py:7: UserWarning: Boolean Series key will be reindexed to match DataFrame index.\n",
            "  import sys\n",
            "/usr/local/lib/python3.7/dist-packages/ipykernel_launcher.py:8: UserWarning: Boolean Series key will be reindexed to match DataFrame index.\n",
            "  \n"
          ],
          "name": "stderr"
        },
        {
          "output_type": "stream",
          "text": [
            "уничтожить -0.04396979510784149\n",
            "объяснить -0.005017929244786501\n",
            "хотеть 0.03467436507344246\n",
            "убедить -0.002195584587752819\n",
            "считать -0.042633745819330215\n",
            "дарить 0.02451673522591591\n",
            "создать 0.0439741350710392\n",
            "помнить -0.011032616719603539\n",
            "обвинить -0.00718452874571085\n",
            "благодарить -0.020726682618260384\n",
            "умереть -0.019652051851153374\n",
            "любить 0.02548207901418209\n",
            "бросить 0.013671370223164558\n",
            "спасти 0.03524821996688843\n",
            "улыбаться 0.028263965621590614\n",
            "Среднее: 0.003561195700118939\n"
          ],
          "name": "stdout"
        }
      ]
    },
    {
      "cell_type": "code",
      "metadata": {
        "colab": {
          "base_uri": "https://localhost:8080/"
        },
        "id": "WitQlBfsl_h8",
        "outputId": "ecbf6d0b-318d-4518-8990-1ce31a1566d0"
      },
      "source": [
        "pos_mean_embs, pos_sum_embs = get_mean_sum(pos_verbs_for_analysis, df_pos_a0)  \n",
        "avg = 0\n",
        "for i, mean in enumerate(pos_mean_embs):\n",
        "  rezs.append(cossim(axis, mean))\n",
        "  labels.append('pos')\n",
        "  print(pos_verbs_for_analysis[i], cossim(axis, mean))\n",
        "  avg += cossim(axis, mean)\n",
        "print('Среднее:', avg/len(pos_mean_embs))"
      ],
      "execution_count": 127,
      "outputs": [
        {
          "output_type": "stream",
          "text": [
            "/usr/local/lib/python3.7/dist-packages/ipykernel_launcher.py:6: UserWarning: Boolean Series key will be reindexed to match DataFrame index.\n",
            "  \n",
            "/usr/local/lib/python3.7/dist-packages/ipykernel_launcher.py:7: UserWarning: Boolean Series key will be reindexed to match DataFrame index.\n",
            "  import sys\n",
            "/usr/local/lib/python3.7/dist-packages/ipykernel_launcher.py:8: UserWarning: Boolean Series key will be reindexed to match DataFrame index.\n",
            "  \n"
          ],
          "name": "stderr"
        },
        {
          "output_type": "stream",
          "text": [
            "обезвредить 0.015969105064868927\n",
            "вразумить 0.05537644028663635\n",
            "ладить 0.02491629123687744\n",
            "карать -0.04725298658013344\n",
            "предотвратить 0.02469639480113983\n",
            "воодушевить 0.07817308604717255\n",
            "изобличить 0.031750425696372986\n",
            "развить -0.02296833135187626\n",
            "развиваться 0.003858760232105851\n",
            "почить -0.03693685308098793\n",
            "Среднее: 0.01275823323521763\n"
          ],
          "name": "stdout"
        }
      ]
    },
    {
      "cell_type": "code",
      "metadata": {
        "id": "WKZ4tcpwfPFv"
      },
      "source": [
        "df_rez_exp1['verb'] = neg_verbs_for_analysis + neutr_verbs_for_analysis + pos_verbs_for_analysis\n",
        "df_rez_exp1['value'] = rezs\n",
        "df_rez_exp1['label'] = labels"
      ],
      "execution_count": 128,
      "outputs": []
    },
    {
      "cell_type": "code",
      "metadata": {
        "colab": {
          "base_uri": "https://localhost:8080/",
          "height": 198
        },
        "id": "q3ZxdplIfhpd",
        "outputId": "f22b5664-feed-4f91-8bc0-55fbf624a14b"
      },
      "source": [
        "df_rez_exp1.head()"
      ],
      "execution_count": 129,
      "outputs": [
        {
          "output_type": "execute_result",
          "data": {
            "text/html": [
              "<div>\n",
              "<style scoped>\n",
              "    .dataframe tbody tr th:only-of-type {\n",
              "        vertical-align: middle;\n",
              "    }\n",
              "\n",
              "    .dataframe tbody tr th {\n",
              "        vertical-align: top;\n",
              "    }\n",
              "\n",
              "    .dataframe thead th {\n",
              "        text-align: right;\n",
              "    }\n",
              "</style>\n",
              "<table border=\"1\" class=\"dataframe\">\n",
              "  <thead>\n",
              "    <tr style=\"text-align: right;\">\n",
              "      <th></th>\n",
              "      <th>verb</th>\n",
              "      <th>value</th>\n",
              "      <th>label</th>\n",
              "    </tr>\n",
              "  </thead>\n",
              "  <tbody>\n",
              "    <tr>\n",
              "      <th>0</th>\n",
              "      <td>стрелять</td>\n",
              "      <td>-0.000942</td>\n",
              "      <td>neg</td>\n",
              "    </tr>\n",
              "    <tr>\n",
              "      <th>1</th>\n",
              "      <td>подвести</td>\n",
              "      <td>-0.017575</td>\n",
              "      <td>neg</td>\n",
              "    </tr>\n",
              "    <tr>\n",
              "      <th>2</th>\n",
              "      <td>надоесть</td>\n",
              "      <td>-0.029014</td>\n",
              "      <td>neg</td>\n",
              "    </tr>\n",
              "    <tr>\n",
              "      <th>3</th>\n",
              "      <td>грозить</td>\n",
              "      <td>-0.047074</td>\n",
              "      <td>neg</td>\n",
              "    </tr>\n",
              "    <tr>\n",
              "      <th>4</th>\n",
              "      <td>нарушить</td>\n",
              "      <td>-0.058606</td>\n",
              "      <td>neg</td>\n",
              "    </tr>\n",
              "  </tbody>\n",
              "</table>\n",
              "</div>"
            ],
            "text/plain": [
              "       verb     value label\n",
              "0  стрелять -0.000942   neg\n",
              "1  подвести -0.017575   neg\n",
              "2  надоесть -0.029014   neg\n",
              "3   грозить -0.047074   neg\n",
              "4  нарушить -0.058606   neg"
            ]
          },
          "metadata": {
            "tags": []
          },
          "execution_count": 129
        }
      ]
    },
    {
      "cell_type": "markdown",
      "metadata": {
        "id": "_E2-UP_8rWtJ"
      },
      "source": [
        "### 3.2.2 по подлежащной группе, контекст - предложение"
      ]
    },
    {
      "cell_type": "code",
      "metadata": {
        "id": "z_Mf7HyDlvML"
      },
      "source": [
        "def get_subj_embed_seq(sentences, positions):\n",
        "  for i, sentence in enumerate(sentences):\n",
        "    tokens, token_embs, subtokens, subtoken_embs, sent_max_embs, sent_mean_embs, bert_pooler_outputs = bert_embed([sentence])\n",
        "    if i == 0:\n",
        "      mean_subj_embed = np.zeros_like(token_embs[0][0])\n",
        "      sum_subj_embed = np.zeros_like(token_embs[0][0])\n",
        "    s_g = np.zeros_like(token_embs[0][0])\n",
        "    m_g = np.zeros_like(token_embs[0][0])\n",
        "\n",
        "    for pos in positions[i].split():\n",
        "      p = int(pos) - 1\n",
        "      s_g += token_embs[0][p]\n",
        "      m_g += token_embs[0][p]\n",
        "    m = m_g/len(positions[i].split())\n",
        "    mean_subj_embed += m\n",
        "    sum_subj_embed += m\n",
        "\n",
        "\n",
        "  return mean_subj_embed/len(token_embs), sum_subj_embed"
      ],
      "execution_count": 69,
      "outputs": []
    },
    {
      "cell_type": "code",
      "metadata": {
        "id": "vCqXV2r1jIuG"
      },
      "source": [
        "def get_mean_sum_seq(verb_list, df):\n",
        "  mean_embs = []   #считаем сумму и среднее всех эмбеддингов субъектов (одно слово по предложению) для глаголов\n",
        "  sum_embs = []\n",
        "  for verb in verb_list:  \n",
        "\n",
        "    subj_list = df[df['verb'] == verb][df['a0'] != ''].a0.values.tolist()\n",
        "    sentences = df[df['verb'] == verb][df['a0'] != ''].sentence.values.tolist()\n",
        "    positions = df[df['verb'] == verb][df['a0'] != ''].positions.values.tolist()\n",
        "\n",
        "    if len(subj_list) > 50:\n",
        "      m, s = get_subj_embed_seq(sentences[:50], positions[:50])\n",
        "    else:\n",
        "      m, s = get_subj_embed_seq(sentences[:50], positions[:50])\n",
        "\n",
        "    mean_embs.append(m)\n",
        "    sum_embs.append(s)\n",
        "\n",
        "  return mean_embs, sum_embs "
      ],
      "execution_count": 70,
      "outputs": []
    },
    {
      "cell_type": "code",
      "metadata": {
        "colab": {
          "base_uri": "https://localhost:8080/"
        },
        "id": "Y5MfEAEMkbbe",
        "outputId": "d8ac6370-25b8-4617-d203-03b76c995413"
      },
      "source": [
        "neg_mean_embs_seq, neg_sum_embs_seq = get_mean_sum_seq(neg_verbs_for_analysis, df_neg_a0)\n",
        "avg = 0\n",
        "rezs = []\n",
        "labels = []\n",
        "for i, mean in enumerate(neg_mean_embs_seq):\n",
        "  rezs.append(cossim(axis, mean))\n",
        "  labels.append('neg')\n",
        "  print(neg_verbs_for_analysis[i], cossim(axis, mean))\n",
        "  avg += cossim(axis, mean)\n",
        "print('Среднее:', avg/len(neg_mean_embs_seq))"
      ],
      "execution_count": 130,
      "outputs": [
        {
          "output_type": "stream",
          "text": [
            "/usr/local/lib/python3.7/dist-packages/ipykernel_launcher.py:6: UserWarning: Boolean Series key will be reindexed to match DataFrame index.\n",
            "  \n",
            "/usr/local/lib/python3.7/dist-packages/ipykernel_launcher.py:7: UserWarning: Boolean Series key will be reindexed to match DataFrame index.\n",
            "  import sys\n",
            "/usr/local/lib/python3.7/dist-packages/ipykernel_launcher.py:8: UserWarning: Boolean Series key will be reindexed to match DataFrame index.\n",
            "  \n"
          ],
          "name": "stderr"
        },
        {
          "output_type": "stream",
          "text": [
            "стрелять 0.004094315227121115\n",
            "подвести -0.013226008042693138\n",
            "надоесть -0.01961575634777546\n",
            "грозить -0.049616292119026184\n",
            "нарушить -0.03640352189540863\n",
            "провоцировать -0.007824237458407879\n",
            "игнорировать -0.016479579731822014\n",
            "мучить 0.0021475371904671192\n",
            "обидеть -0.033595118671655655\n",
            "убить 0.016857078298926353\n",
            "захватить 0.024949630722403526\n",
            "Среднее: -0.011701086620715532\n"
          ],
          "name": "stdout"
        }
      ]
    },
    {
      "cell_type": "code",
      "metadata": {
        "colab": {
          "base_uri": "https://localhost:8080/"
        },
        "id": "W8C9pz0P9s8H",
        "outputId": "d7402817-57e7-44b0-d685-b4e4f5e9201b"
      },
      "source": [
        "neutr_mean_embs_seq, neutr_sum_embs_seq = get_mean_sum_seq(neutr_verbs_for_analysis, df_neutr_a0)  \n",
        "avg = 0\n",
        "for i, mean in enumerate(neutr_mean_embs_seq):\n",
        "  rezs.append(cossim(axis, mean))\n",
        "  labels.append('neutr')\n",
        "  print(neutr_verbs_for_analysis[i], cossim(axis, mean))\n",
        "  avg += cossim(axis, mean)\n",
        "print('Среднее:', avg/len(neutr_mean_embs_seq))"
      ],
      "execution_count": 131,
      "outputs": [
        {
          "output_type": "stream",
          "text": [
            "/usr/local/lib/python3.7/dist-packages/ipykernel_launcher.py:6: UserWarning: Boolean Series key will be reindexed to match DataFrame index.\n",
            "  \n",
            "/usr/local/lib/python3.7/dist-packages/ipykernel_launcher.py:7: UserWarning: Boolean Series key will be reindexed to match DataFrame index.\n",
            "  import sys\n",
            "/usr/local/lib/python3.7/dist-packages/ipykernel_launcher.py:8: UserWarning: Boolean Series key will be reindexed to match DataFrame index.\n",
            "  \n"
          ],
          "name": "stderr"
        },
        {
          "output_type": "stream",
          "text": [
            "уничтожить -0.037805382162332535\n",
            "объяснить -0.0089587876573205\n",
            "хотеть 0.03057333081960678\n",
            "убедить 0.013437282294034958\n",
            "считать -0.03715959191322327\n",
            "дарить 0.01131789293140173\n",
            "создать 0.03867243975400925\n",
            "помнить -0.009313627146184444\n",
            "обвинить -0.03977449983358383\n",
            "благодарить -0.037823956459760666\n",
            "умереть -0.02952520176768303\n",
            "любить 0.017286624759435654\n",
            "бросить 0.010846043936908245\n",
            "спасти 0.028622929006814957\n",
            "улыбаться 0.02425789274275303\n",
            "Среднее: -0.0016897740463415782\n"
          ],
          "name": "stdout"
        }
      ]
    },
    {
      "cell_type": "code",
      "metadata": {
        "colab": {
          "base_uri": "https://localhost:8080/"
        },
        "id": "7co6lXvN_HwK",
        "outputId": "7a86f5c7-1fca-44c0-dc9a-cf7a1a35de6e"
      },
      "source": [
        "pos_mean_embs_seq, pos_sum_embs_seq = get_mean_sum_seq(pos_verbs_for_analysis, df_pos_a0)   \n",
        "avg = 0\n",
        "for i, mean in enumerate(pos_mean_embs_seq):\n",
        "  rezs.append(cossim(axis, mean))\n",
        "  labels.append('pos')\n",
        "  print(pos_verbs_for_analysis[i], cossim(axis, mean))\n",
        "  avg += cossim(axis, mean)\n",
        "print('Среднее:', avg/len(pos_mean_embs_seq))"
      ],
      "execution_count": 132,
      "outputs": [
        {
          "output_type": "stream",
          "text": [
            "/usr/local/lib/python3.7/dist-packages/ipykernel_launcher.py:6: UserWarning: Boolean Series key will be reindexed to match DataFrame index.\n",
            "  \n",
            "/usr/local/lib/python3.7/dist-packages/ipykernel_launcher.py:7: UserWarning: Boolean Series key will be reindexed to match DataFrame index.\n",
            "  import sys\n",
            "/usr/local/lib/python3.7/dist-packages/ipykernel_launcher.py:8: UserWarning: Boolean Series key will be reindexed to match DataFrame index.\n",
            "  \n"
          ],
          "name": "stderr"
        },
        {
          "output_type": "stream",
          "text": [
            "обезвредить 0.01651657558977604\n",
            "вразумить 0.04910176619887352\n",
            "ладить 0.013290534727275372\n",
            "карать -0.018966026604175568\n",
            "предотвратить 0.01885116659104824\n",
            "воодушевить 0.04186328127980232\n",
            "изобличить 0.04577798396348953\n",
            "развить -0.0008023674599826336\n",
            "развиваться 0.0057938797399401665\n",
            "почить -0.020567525178194046\n",
            "Среднее: 0.015085926884785295\n"
          ],
          "name": "stdout"
        }
      ]
    },
    {
      "cell_type": "code",
      "metadata": {
        "id": "Xi3VVNSbfpUZ"
      },
      "source": [
        "df_rez_exp2['verb'] = neg_verbs_for_analysis + neutr_verbs_for_analysis + pos_verbs_for_analysis\n",
        "df_rez_exp2['value'] = rezs\n",
        "df_rez_exp2['label'] = labels"
      ],
      "execution_count": 133,
      "outputs": []
    },
    {
      "cell_type": "markdown",
      "metadata": {
        "id": "S5sK-dnEGzmF"
      },
      "source": [
        "### 3.2.3 по одному слову, контекст - весь документ"
      ]
    },
    {
      "cell_type": "code",
      "metadata": {
        "id": "67lxNMQSP-Ts"
      },
      "source": [
        "import nltk\n",
        "from nltk.tokenize import sent_tokenize, word_tokenize\n",
        "\n",
        "def sent_tokenization(text, doc, pos):\n",
        "  n_sent = -1\n",
        "  sents = sent_tokenize(doc)\n",
        "  for i, sent in enumerate(sents):\n",
        "    if len(sent.split()) > 6 and len(text.split()) > 6:\n",
        "      if sent.split()[:7] == text.split()[:7]:\n",
        "        if n_sent != -1:\n",
        "          print(sent, text)\n",
        "          n_sent = i\n",
        "        else:\n",
        "          n_sent = i\n",
        "    elif sent == text:\n",
        "      n_sent = i\n",
        "  \n",
        "  if n_sent == -1:\n",
        "    w_sent = nltk.word_tokenize(text)\n",
        "    doc_toks = nltk.word_tokenize(doc)\n",
        "    for i in range(len(doc_toks)):\n",
        "      if w_sent[1] == doc_toks[i + 1] and w_sent[2] == doc_toks[i + 2] and w_sent[3] == doc_toks[i + 3]:\n",
        "        n_word = i\n",
        "        break\n",
        "\n",
        "    length = len(nltk.word_tokenize(doc))\n",
        "    for i, sent in enumerate(sents):\n",
        "      if n_word < len(word_tokenize(sent)):\n",
        "        words = word_tokenize(sent)\n",
        "        for j in range(len(words)):\n",
        "          if words[j + 1] == w_sent[1] and words[j + 2] == w_sent[2]:\n",
        "            pos = int(pos) + j + 1\n",
        "            break\n",
        "        n_sent = i \n",
        "        break\n",
        "      else:\n",
        "        n_word -= len(word_tokenize(sent))        \n",
        "\n",
        "  return sents, n_sent, pos"
      ],
      "execution_count": 75,
      "outputs": []
    },
    {
      "cell_type": "code",
      "metadata": {
        "id": "MabdBbCMFkuc"
      },
      "source": [
        "def get_subj_embed_docs(sentences, positions, docs, df_docs):\n",
        "  mean_subj_embed = 0\n",
        "  sum_subj_embed = 0\n",
        "  for i, doc in enumerate(docs): #название берем контекст\n",
        "    name = doc.split('_')[0]\n",
        "    text = df_docs[df_docs['doc_name'] == name].doc_text.values[0]\n",
        "    sent_list, sent_pos, word_pos = sent_tokenization(sentences[i], text, positions[i]) # получаем позицию, токены остаются те же\n",
        "    st = sent_pos - 5\n",
        "    f = sent_pos + 5   \n",
        "    if sent_pos < 5:\n",
        "      st = 0\n",
        "      f = f + 5 - sent_pos\n",
        "    elif f > len(sent_list):\n",
        "      f = len(sent_list) \n",
        "      st = st - f + len(sent_list)  \n",
        "\n",
        "    tokens, token_embs, subtokens, subtoken_embs, sent_max_embs, sent_mean_embs, bert_pooler_outputs = bert_embed(sent_list[st:f])\n",
        "    if i == 0:\n",
        "      mean_subj_embed = np.zeros_like(token_embs[0][0])\n",
        "      sum_subj_embed = np.zeros_like(token_embs[0][0])\n",
        "\n",
        "    if (int(word_pos) - 1) > len(token_embs[sent_pos - st]):\n",
        "      token_embs[sent_pos - st] = np.vstack((token_embs[sent_pos - st], token_embs[sent_pos - st + 1]))\n",
        "\n",
        "    mean_subj_embed += token_embs[sent_pos - st][int(word_pos) - 1]#список предложений - список слов\n",
        "    sum_subj_embed += token_embs[sent_pos - st][int(word_pos) - 1]\n",
        "  \n",
        "    \n",
        "\n",
        "  return mean_subj_embed/len(sentences), sum_subj_embed"
      ],
      "execution_count": 76,
      "outputs": []
    },
    {
      "cell_type": "code",
      "metadata": {
        "id": "3-cK2_cVJrba"
      },
      "source": [
        "def get_mean_sum_docs(verb_list, df, df_docs):\n",
        "  mean_embs = []   #считаем сумму и среднее всех эмбеддингов субъектов (одно слово по предложению) для глаголов\n",
        "  sum_embs = []\n",
        "  for verb in verb_list:  \n",
        "\n",
        "    subj = df[df['verb'] == verb][df['a0'] != ''].a0.values.tolist()\n",
        "    sentences = df[df['verb'] == verb][df['a0'] != ''].sentence.values.tolist()\n",
        "    positions = df[df['verb'] == verb][df['a0'] != ''].position_single.values.tolist()\n",
        "    docs = df[df['verb'] == verb][df['a0'] != ''].doc.values.tolist()\n",
        "\n",
        "    if len(subj) > 50:\n",
        "      m, s = get_subj_embed_docs(sentences[:50], positions[:50], docs[:50], df_docs)\n",
        "    else:\n",
        "      m, s = get_subj_embed_docs(sentences, positions, docs, df_docs)\n",
        "\n",
        "    mean_embs.append(m)\n",
        "    sum_embs.append(s)\n",
        "\n",
        "  return mean_embs, sum_embs"
      ],
      "execution_count": 77,
      "outputs": []
    },
    {
      "cell_type": "code",
      "metadata": {
        "colab": {
          "base_uri": "https://localhost:8080/"
        },
        "id": "UjtROuRm_Q-d",
        "outputId": "4f4a8a3e-d404-4b0c-84b8-82d6face74a5"
      },
      "source": [
        "neg_mean_embs_docs, neg_sum_embs_docs = get_mean_sum_docs(neg_verbs_for_analysis, df_neg_a0, df_docs) \n",
        "avg = 0\n",
        "for i, mean in enumerate(neg_mean_embs_docs):\n",
        "  print(neg_verbs_for_analysis[i], cossim(axis, mean))\n",
        "  avg += cossim(axis, mean)\n",
        "print('Среднее:', avg/len(neg_mean_embs_docs))"
      ],
      "execution_count": 78,
      "outputs": [
        {
          "output_type": "stream",
          "text": [
            "/usr/local/lib/python3.7/dist-packages/ipykernel_launcher.py:6: UserWarning: Boolean Series key will be reindexed to match DataFrame index.\n",
            "  \n",
            "/usr/local/lib/python3.7/dist-packages/ipykernel_launcher.py:7: UserWarning: Boolean Series key will be reindexed to match DataFrame index.\n",
            "  import sys\n",
            "/usr/local/lib/python3.7/dist-packages/ipykernel_launcher.py:8: UserWarning: Boolean Series key will be reindexed to match DataFrame index.\n",
            "  \n",
            "/usr/local/lib/python3.7/dist-packages/ipykernel_launcher.py:9: UserWarning: Boolean Series key will be reindexed to match DataFrame index.\n",
            "  if __name__ == '__main__':\n"
          ],
          "name": "stderr"
        },
        {
          "output_type": "stream",
          "text": [
            "стрелять -0.0009423012961633503\n",
            "подвести -0.01700153388082981\n",
            "надоесть -0.0290136206895113\n",
            "грозить -0.04805460944771767\n",
            "нарушить -0.0586056187748909\n",
            "провоцировать 0.001224711537361145\n",
            "игнорировать -0.010903536342084408\n",
            "мучить -0.0006883498281240463\n",
            "обидеть -0.016112368553876877\n",
            "убить 0.01270467508584261\n",
            "захватить 0.018665950745344162\n",
            "Среднее: -0.013520600131331858\n"
          ],
          "name": "stdout"
        }
      ]
    },
    {
      "cell_type": "code",
      "metadata": {
        "colab": {
          "base_uri": "https://localhost:8080/"
        },
        "id": "OwG2mQ--Dx7u",
        "outputId": "62ce2ba2-66e5-4205-d121-af666896444d"
      },
      "source": [
        "neutr_mean_embs_docs, neutr_sum_embs_docs = get_mean_sum_docs(neutr_verbs_for_analysis, df_neutr_a0, df_docs)\n",
        "avg = 0\n",
        "for i, mean in enumerate(neutr_mean_embs_docs):\n",
        "  print(neutr_verbs_for_analysis[i], cossim(axis, mean))\n",
        "  avg += cossim(axis, mean)\n",
        "print('Среднее:', avg/len(neutr_mean_embs_docs))"
      ],
      "execution_count": 79,
      "outputs": [
        {
          "output_type": "stream",
          "text": [
            "/usr/local/lib/python3.7/dist-packages/ipykernel_launcher.py:6: UserWarning: Boolean Series key will be reindexed to match DataFrame index.\n",
            "  \n",
            "/usr/local/lib/python3.7/dist-packages/ipykernel_launcher.py:7: UserWarning: Boolean Series key will be reindexed to match DataFrame index.\n",
            "  import sys\n",
            "/usr/local/lib/python3.7/dist-packages/ipykernel_launcher.py:8: UserWarning: Boolean Series key will be reindexed to match DataFrame index.\n",
            "  \n",
            "/usr/local/lib/python3.7/dist-packages/ipykernel_launcher.py:9: UserWarning: Boolean Series key will be reindexed to match DataFrame index.\n",
            "  if __name__ == '__main__':\n"
          ],
          "name": "stderr"
        },
        {
          "output_type": "stream",
          "text": [
            "уничтожить -0.04479939490556717\n",
            "объяснить -0.003558147232979536\n",
            "хотеть 0.03290880098938942\n",
            "убедить -0.0021955568809062243\n",
            "считать -0.043990347534418106\n",
            "дарить 0.026301464065909386\n",
            "создать 0.044343382120132446\n",
            "помнить -0.011032599955797195\n",
            "обвинить -0.007184502203017473\n",
            "благодарить -0.02003706991672516\n",
            "умереть -0.018523406237363815\n",
            "любить 0.025457018986344337\n",
            "бросить 0.013671370223164558\n",
            "спасти 0.035248249769210815\n",
            "улыбаться 0.023041829466819763\n",
            "Среднее: 0.003310072716946403\n"
          ],
          "name": "stdout"
        }
      ]
    },
    {
      "cell_type": "markdown",
      "metadata": {
        "id": "KVB586aEgCY4"
      },
      "source": [
        "# 4. Визуализации\n",
        "\n"
      ]
    },
    {
      "cell_type": "code",
      "metadata": {
        "id": "NKMOuFnrQx87"
      },
      "source": [
        "import matplotlib\n",
        "\n",
        "import matplotlib.pyplot as plt\n",
        "\n",
        "%matplotlib inline"
      ],
      "execution_count": 82,
      "outputs": []
    },
    {
      "cell_type": "markdown",
      "metadata": {
        "id": "-hOlKLFQqkoO"
      },
      "source": [
        "## 4.1 Семантическая ось"
      ]
    },
    {
      "cell_type": "markdown",
      "metadata": {
        "id": "8JOOadMVMBa9"
      },
      "source": [
        "### Идеальный ожидаемый результат"
      ]
    },
    {
      "cell_type": "code",
      "metadata": {
        "id": "mJbTEtV2LyG9"
      },
      "source": [
        "df_rez_ideal = pd.DataFrame()\n",
        "neg = np.random.normal(loc=-3, scale=0.50, size=(10, 1))\n",
        "pos = np.random.normal(loc=2, scale=0.50, size=(10, 1))\n",
        "neutr = np.random.normal(loc=0, scale=1, size=(10, 1))\n",
        "y = [0 for _ in neg]"
      ],
      "execution_count": 298,
      "outputs": []
    },
    {
      "cell_type": "code",
      "metadata": {
        "colab": {
          "base_uri": "https://localhost:8080/",
          "height": 319
        },
        "id": "DnOKK4f3NW06",
        "outputId": "83959fd5-18fc-4713-8b9e-7d8a6806eb40"
      },
      "source": [
        "xs = np.linspace(-5, 5, 30)\n",
        "ys = np.zeros_like(xs)\n",
        "plt.plot(xs, ys, 'k')\n",
        "\n",
        "ax = plt.axes()\n",
        "ax.arrow(4.99, 0, 0.01, 0, head_width=0.005, head_length=0.15, fc='k', ec='k')\n",
        "\n",
        "plt.plot(neg, y, 'or', markersize=10);\n",
        "\n",
        "plt.plot(pos, y, 'og', markersize=10);\n",
        "\n",
        "plt.plot(neutr, y, 'o', markersize=10);"
      ],
      "execution_count": 300,
      "outputs": [
        {
          "output_type": "stream",
          "text": [
            "/usr/local/lib/python3.7/dist-packages/ipykernel_launcher.py:5: MatplotlibDeprecationWarning: Adding an axes using the same arguments as a previous axes currently reuses the earlier instance.  In a future version, a new instance will always be created and returned.  Meanwhile, this warning can be suppressed, and the future behavior ensured, by passing a unique label to each axes instance.\n",
            "  \"\"\"\n"
          ],
          "name": "stderr"
        },
        {
          "output_type": "display_data",
          "data": {
            "image/png": "[encoded data removed]",
            "text/plain": [
              "<Figure size 432x288 with 1 Axes>"
            ]
          },
          "metadata": {
            "tags": [],
            "needs_background": "light"
          }
        }
      ]
    },
    {
      "cell_type": "markdown",
      "metadata": {
        "id": "lo8FDetfLzNI"
      },
      "source": [
        "### Эксперимент 1"
      ]
    },
    {
      "cell_type": "code",
      "metadata": {
        "id": "5Sou4NG-npFO"
      },
      "source": [
        "df_rez_exp1['y'] = [0 for el in range(len(df_rez_exp1))]"
      ],
      "execution_count": 147,
      "outputs": []
    },
    {
      "cell_type": "code",
      "metadata": {
        "colab": {
          "base_uri": "https://localhost:8080/",
          "height": 399
        },
        "id": "X54iK5HbnIhh",
        "outputId": "f37c32ea-41bd-4fa8-81df-54bc5c162723"
      },
      "source": [
        "xs = np.linspace(-0.065, 0.08, 30)\n",
        "ys = np.zeros_like(xs)\n",
        "plt.plot(xs, ys, 'k')\n",
        "\n",
        "ax = plt.axes()\n",
        "ax.arrow(0.08, 0, 0.0001, 0, head_width=0.005, head_length=0.001, fc='k', ec='k')\n",
        "\n",
        "\n",
        "x_neutr = df_rez_exp1[df_rez_exp1['label'] == 'neutr'].value.values.tolist()\n",
        "y_neutr = [0 for _ in x_neutr]\n",
        "\n",
        "plt.plot(x_neutr, y_neutr, 'o', markersize=10);\n",
        "\n",
        "ax = plt.gca()\n",
        "df_rez_exp1[df_rez_exp1['label'] == 'neutr'].apply(lambda x: ax.annotate(x['verb'], (x['value'] - 0.003, x['y']+ - 0.04), rotation=75, size=15), axis=1)\n",
        "\n",
        "\n",
        "\n",
        "x_pos = df_rez_exp1[df_rez_exp1['label'] == 'pos'].value.values.tolist()\n",
        "y_pos = [0 for _ in x_pos]\n",
        "\n",
        "plt.plot(x_pos, y_pos, 'og', markersize=10);\n",
        "\n",
        "ax = plt.gca()\n",
        "df_rez_exp1[df_rez_exp1['label'] == 'pos'].apply(lambda x: ax.annotate(x['verb'], (x['value'], x['y']+ + 0.005), rotation=75, size=15), axis=1)\n",
        "\n",
        "\n",
        "x_neg = df_rez_exp1[df_rez_exp1['label'] == 'neg'].value.values.tolist()\n",
        "y_neg = [0 for _ in x_neg]\n",
        "\n",
        "plt.plot(x_neg, y_neg, 'or', markersize=10);\n",
        "\n",
        "ax = plt.gca()\n",
        "df_rez_exp1[df_rez_exp1['label'] == 'neg'].apply(lambda x: ax.annotate(x['verb'], (x['value'], x['y']+ + 0.005), rotation=75, size=15), axis=1)\n",
        "\n",
        "\n",
        "\n",
        "fig = matplotlib.pyplot.gcf()\n",
        "fig.set_size_inches(20.5, 5.5)\n"
      ],
      "execution_count": 262,
      "outputs": [
        {
          "output_type": "stream",
          "text": [
            "/usr/local/lib/python3.7/dist-packages/ipykernel_launcher.py:5: MatplotlibDeprecationWarning: Adding an axes using the same arguments as a previous axes currently reuses the earlier instance.  In a future version, a new instance will always be created and returned.  Meanwhile, this warning can be suppressed, and the future behavior ensured, by passing a unique label to each axes instance.\n",
            "  \"\"\"\n"
          ],
          "name": "stderr"
        },
        {
          "output_type": "display_data",
          "data": {
            "image/png": "[encoded data removed]",
            "text/plain": [
              "<Figure size 1476x396 with 1 Axes>"
            ]
          },
          "metadata": {
            "tags": [],
            "needs_background": "light"
          }
        }
      ]
    },
    {
      "cell_type": "markdown",
      "metadata": {
        "id": "xCDxStb-L7xy"
      },
      "source": [
        "### Эксперимент 2"
      ]
    },
    {
      "cell_type": "code",
      "metadata": {
        "id": "aXXNv3bE_ypv"
      },
      "source": [
        "df_rez_exp2['y'] = [0 for el in range(len(df_rez_exp2))]"
      ],
      "execution_count": 252,
      "outputs": []
    },
    {
      "cell_type": "code",
      "metadata": {
        "colab": {
          "base_uri": "https://localhost:8080/",
          "height": 399
        },
        "id": "56ZyRzAbzmY7",
        "outputId": "cf4db983-2b34-4d7c-caa5-39acd0b5f4ff"
      },
      "source": [
        "xs = np.linspace(-0.052, 0.052, 30)\n",
        "ys = np.zeros_like(xs)\n",
        "plt.plot(xs, ys, 'k')\n",
        "\n",
        "ax = plt.axes()\n",
        "ax.arrow(0.052, 0, 0.0001, 0, head_width=0.005, head_length=0.001, fc='k', ec='k')\n",
        "\n",
        "\n",
        "x_neutr = df_rez_exp2[df_rez_exp2['label'] == 'neutr'].value.values.tolist()\n",
        "y_neutr = [0 for _ in x_neutr]\n",
        "\n",
        "plt.plot(x_neutr, y_neutr, 'o', markersize=10);\n",
        "\n",
        "ax = plt.gca()\n",
        "df_rez_exp2[df_rez_exp2['label'] == 'neutr'].apply(lambda x: ax.annotate(x['verb'], (x['value'] - 0.003, x['y']+ - 0.04), rotation=75, size=15), axis=1)\n",
        "\n",
        "\n",
        "\n",
        "x_pos = df_rez_exp2[df_rez_exp2['label'] == 'pos'].value.values.tolist()\n",
        "y_pos = [0 for _ in x_pos]\n",
        "\n",
        "plt.plot(x_pos, y_pos, 'og', markersize=10);\n",
        "\n",
        "ax = plt.gca()\n",
        "df_rez_exp2[df_rez_exp2['label'] == 'pos'].apply(lambda x: ax.annotate(x['verb'], (x['value'], x['y']+ + 0.005), rotation=75, size=15), axis=1)\n",
        "\n",
        "\n",
        "x_neg = df_rez_exp2[df_rez_exp2['label'] == 'neg'].value.values.tolist()\n",
        "y_neg = [0 for _ in x_neg]\n",
        "\n",
        "plt.plot(x_neg, y_neg, 'or', markersize=10);\n",
        "\n",
        "ax = plt.gca()\n",
        "df_rez_exp2[df_rez_exp2['label'] == 'neg'].apply(lambda x: ax.annotate(x['verb'], (x['value'], x['y']+ + 0.005), rotation=75, size=15), axis=1)\n",
        "\n",
        "\n",
        "\n",
        "fig = matplotlib.pyplot.gcf()\n",
        "fig.set_size_inches(20.5, 5.5)"
      ],
      "execution_count": 261,
      "outputs": [
        {
          "output_type": "stream",
          "text": [
            "/usr/local/lib/python3.7/dist-packages/ipykernel_launcher.py:5: MatplotlibDeprecationWarning: Adding an axes using the same arguments as a previous axes currently reuses the earlier instance.  In a future version, a new instance will always be created and returned.  Meanwhile, this warning can be suppressed, and the future behavior ensured, by passing a unique label to each axes instance.\n",
            "  \"\"\"\n"
          ],
          "name": "stderr"
        },
        {
          "output_type": "display_data",
          "data": {
            "image/png": "[encoded data removed]",
            "text/plain": [
              "<Figure size 1476x396 with 1 Axes>"
            ]
          },
          "metadata": {
            "tags": [],
            "needs_background": "light"
          }
        }
      ]
    }
  ]
}